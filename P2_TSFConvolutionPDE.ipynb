{
 "cells": [
  {
   "cell_type": "markdown",
   "id": "potential-destruction",
   "metadata": {},
   "source": [
    "# Convolutional PDEs"
   ]
  },
  {
   "cell_type": "markdown",
   "id": "played-shipping",
   "metadata": {},
   "source": [
    "Initial [wave equation](https://en.wikipedia.org/wiki/Wave_equation#Introduction):"
   ]
  },
  {
   "cell_type": "markdown",
   "id": "golden-piano",
   "metadata": {},
   "source": [
    "$$\\frac{{\\partial ^2 u}}{{\\partial t^2 }} = {{c^2 \\Delta u}}$$"
   ]
  },
  {
   "cell_type": "markdown",
   "id": "virtual-funeral",
   "metadata": {},
   "source": [
    "discrete equations for $u$ with a discret time interval $\\delta t$"
   ]
  },
  {
   "cell_type": "markdown",
   "id": "raising-study",
   "metadata": {},
   "source": [
    "$$\n",
    "\\begin{align} \n",
    " u_0(x,y) &= C\\\\\n",
    " u_{n+1}(x,y) &= u_n(x,y) + u'_n(x,y) \\delta t\\\\\n",
    " u'_{n+1}(x,y) &= u'_n(x,y) + u''_n(x,y) \\delta t\\\\\n",
    "\\end{align}\n",
    "$$"
   ]
  },
  {
   "cell_type": "markdown",
   "id": "aerial-bathroom",
   "metadata": {},
   "source": [
    "substituting $u''_n(x,y)$ with the RHS of the wave equation $c^2 \\Delta u $"
   ]
  },
  {
   "cell_type": "markdown",
   "id": "individual-horror",
   "metadata": {},
   "source": [
    "$$\n",
    "\\begin{align}\n",
    " u_0(x,y) &= C\\\\\n",
    " u_{n+1}(x,y) &= u_n(x,y) + u'_n(x,y) \\delta t\\\\\n",
    " u'_{n+1}(x,y) &= u'_n(x,y) + (c^2 \\Delta u ) \\delta t\\\\\n",
    "\\end{align}\n",
    "$$"
   ]
  },
  {
   "cell_type": "markdown",
   "id": "increasing-display",
   "metadata": {},
   "source": [
    "Initial conditions:"
   ]
  },
  {
   "cell_type": "code",
   "execution_count": 2,
   "id": "helpful-launch",
   "metadata": {},
   "outputs": [
    {
     "name": "stdout",
     "output_type": "stream",
     "text": [
      "Populating the interactive namespace from numpy and matplotlib\n"
     ]
    }
   ],
   "source": [
    "%pylab inline"
   ]
  },
  {
   "cell_type": "code",
   "execution_count": 3,
   "id": "pretty-appliance",
   "metadata": {},
   "outputs": [],
   "source": [
    "N = 51\n",
    "u_init = np.zeros([N, N], dtype=np.float32)\n",
    "ut_init = np.zeros([N, N], dtype=np.float32)\n",
    "\n",
    "# initial condition\n",
    "u_init[N//2,N//2] = 10\n"
   ]
  },
  {
   "cell_type": "code",
   "execution_count": 20,
   "id": "attractive-garbage",
   "metadata": {},
   "outputs": [],
   "source": [
    "LaPlace = [[0., 1., 0.],[1., -4., 1.],[0., 1., 0.]]"
   ]
  },
  {
   "cell_type": "code",
   "execution_count": 22,
   "id": "composed-visit",
   "metadata": {},
   "outputs": [],
   "source": [
    "U_ = u_init\n",
    "Ut_= ut_init\n",
    "lU_= np.zeros_like(ut_init)\n",
    "for k in range(0,50):\n",
    "    for i in range(1,u_init.shape[0]-2):\n",
    "        for j in range(1,u_init.shape[1]-2):\n",
    "            lU_[i+1,j+1] = np.sum(LaPlace*U_[i:i+3,j:j+3])/8.\n",
    "    U_  = U_+ Ut_\n",
    "    Ut_ = Ut_ + (1./4.*lU_)"
   ]
  },
  {
   "cell_type": "code",
   "execution_count": 23,
   "id": "respective-plane",
   "metadata": {},
   "outputs": [
    {
     "data": {
      "text/plain": [
       "<matplotlib.image.AxesImage at 0xae2a3750>"
      ]
     },
     "execution_count": 23,
     "metadata": {},
     "output_type": "execute_result"
    },
    {
     "data": {
      "image/png": "[encoded data removed]",
      "text/plain": [
       "<Figure size 432x288 with 1 Axes>"
      ]
     },
     "metadata": {
      "needs_background": "light"
     },
     "output_type": "display_data"
    }
   ],
   "source": [
    "plt.imshow(U_,cmap='RdBu')"
   ]
  },
  {
   "cell_type": "code",
   "execution_count": 17,
   "id": "apart-wallpaper",
   "metadata": {
    "scrolled": true
   },
   "outputs": [
    {
     "data": {
      "text/plain": [
       "[<matplotlib.lines.Line2D at 0xae352bb0>]"
      ]
     },
     "execution_count": 17,
     "metadata": {},
     "output_type": "execute_result"
    },
    {
     "data": {
      "image/png": "[encoded data removed]",
      "text/plain": [
       "<Figure size 432x288 with 1 Axes>"
      ]
     },
     "metadata": {
      "needs_background": "light"
     },
     "output_type": "display_data"
    }
   ],
   "source": [
    "plt.plot(np.abs(U_[:,N//2]))"
   ]
  },
  {
   "cell_type": "code",
   "execution_count": null,
   "id": "laughing-polymer",
   "metadata": {},
   "outputs": [],
   "source": []
  }
 ],
 "metadata": {
  "kernelspec": {
   "display_name": "Python 3",
   "language": "python",
   "name": "python3"
  },
  "language_info": {
   "codemirror_mode": {
    "name": "ipython",
    "version": 3
   },
   "file_extension": ".py",
   "mimetype": "text/x-python",
   "name": "python",
   "nbconvert_exporter": "python",
   "pygments_lexer": "ipython3",
   "version": "3.7.3"
  }
 },
 "nbformat": 4,
 "nbformat_minor": 5
}
