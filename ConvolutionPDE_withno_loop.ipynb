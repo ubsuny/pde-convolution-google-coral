{
 "cells": [
  {
   "cell_type": "markdown",
   "metadata": {},
   "source": [
    "# Convolutional PDEs"
   ]
  },
  {
   "cell_type": "markdown",
   "metadata": {},
   "source": [
    "Initial [wave equation](https://en.wikipedia.org/wiki/Wave_equation#Introduction):"
   ]
  },
  {
   "cell_type": "markdown",
   "metadata": {},
   "source": [
    "$$\\frac{{\\partial ^2 u}}{{\\partial t^2 }} = {{c^2 \\Delta u}}$$"
   ]
  },
  {
   "cell_type": "markdown",
   "metadata": {},
   "source": [
    "discrete equations for $u$ with a discret time interval $\\delta t$"
   ]
  },
  {
   "cell_type": "markdown",
   "metadata": {},
   "source": [
    "$$\n",
    "\\begin{align} \n",
    " u_0(x,y) &= C\\\\\n",
    " u_{n+1}(x,y) &= u_n(x,y) + u'_n(x,y) \\delta t\\\\\n",
    " u'_{n+1}(x,y) &= u'_n(x,y) + u''_n(x,y) \\delta t\\\\\n",
    "\\end{align}\n",
    "$$"
   ]
  },
  {
   "cell_type": "markdown",
   "metadata": {},
   "source": [
    "substituting $u''_n(x,y)$ with the RHS of the wave equation $c^2 \\Delta u $"
   ]
  },
  {
   "cell_type": "markdown",
   "metadata": {},
   "source": [
    "$$\n",
    "\\begin{align}\n",
    " u_0(x,y) &= C\\\\\n",
    " u_{n+1}(x,y) &= u_n(x,y) + u'_n(x,y) \\delta t\\\\\n",
    " u'_{n+1}(x,y) &= u'_n(x,y) + (c^2 \\Delta u ) \\delta t\\\\\n",
    "\\end{align}\n",
    "$$"
   ]
  },
  {
   "cell_type": "markdown",
   "metadata": {},
   "source": [
    "Initial conditions:"
   ]
  },
  {
   "cell_type": "code",
   "execution_count": 3,
   "metadata": {},
   "outputs": [
    {
     "name": "stdout",
     "output_type": "stream",
     "text": [
      "Populating the interactive namespace from numpy and matplotlib\n"
     ]
    }
   ],
   "source": [
    "%pylab inline\n",
    "import time"
   ]
  },
  {
   "cell_type": "code",
   "execution_count": 15,
   "metadata": {},
   "outputs": [
    {
     "data": {
      "text/plain": [
       "array([ 0.,  0.,  0.,  0.,  0.,  0.,  0.,  0.,  0.,  0.,  0.,  0.,  0.,\n",
       "        0.,  0.,  0.,  0.,  0.,  0.,  0.,  0.,  0.,  0.,  0.,  0., 10.,\n",
       "        0.,  0.,  0.,  0.,  0.,  0.,  0.,  0.,  0.,  0.,  0.,  0.,  0.,\n",
       "        0.,  0.,  0.,  0.,  0.,  0.,  0.,  0.,  0.,  0.,  0.,  0.],\n",
       "      dtype=float32)"
      ]
     },
     "execution_count": 15,
     "metadata": {},
     "output_type": "execute_result"
    }
   ],
   "source": [
    "N = 51\n",
    "u_init = np.zeros([N, N], dtype=np.float32)\n",
    "ut_init = np.zeros([N, N], dtype=np.float32)\n",
    "\n",
    "# initial condition\n",
    "u_init[N//2,N//2] = 10\n",
    "u_init[25,:]"
   ]
  },
  {
   "cell_type": "code",
   "execution_count": 16,
   "metadata": {},
   "outputs": [],
   "source": [
    "LaPlace = [[0., 1., 0.],[1., -4., 1.],[0., 1., 0.]]"
   ]
  },
  {
   "cell_type": "code",
   "execution_count": 17,
   "metadata": {},
   "outputs": [
    {
     "name": "stdout",
     "output_type": "stream",
     "text": [
      "The vectorization without loop takes 0.01800s.\n"
     ]
    }
   ],
   "source": [
    "t1 = time.time() # start timing for the loop\n",
    "U_ = u_init\n",
    "Ut_= ut_init\n",
    "lU_= np.zeros_like(ut_init)\n",
    "t1 = time.time() # start timing for the loop\n",
    "for k in range(0,500):\n",
    "    lU_[1:lU_.shape[0]-1,1:lU_.shape[0]-1] = 1/8 * ( -4*U_[1:lU_.shape[0]-1,1:lU_.shape[0]-1] \n",
    "                                                          + U_[1:lU_.shape[0]-1,0:lU_.shape[0]-2] \n",
    "                                                          + U_[1:lU_.shape[0]-1,2:lU_.shape[0]] \n",
    "                                                          + U_[0:lU_.shape[0]-2,1:lU_.shape[0]-1] \n",
    "                                                          + U_[2:lU_.shape[0],1:lU_.shape[0]-1] )\n",
    "    U_  = U_+ Ut_\n",
    "    Ut_ = Ut_ + (1./4.*lU_)\n",
    "print('The vectorization without loop takes {0:0.5f}s.'.format(time.time()-t1))"
   ]
  },
  {
   "cell_type": "code",
   "execution_count": 13,
   "metadata": {},
   "outputs": [
    {
     "data": {
      "text/plain": [
       "<matplotlib.colorbar.Colorbar at 0x1c1087d60a0>"
      ]
     },
     "execution_count": 13,
     "metadata": {},
     "output_type": "execute_result"
    },
    {
     "data": {
      "image/png": "[encoded data removed]",
      "text/plain": [
       "<Figure size 432x288 with 2 Axes>"
      ]
     },
     "metadata": {
      "needs_background": "light"
     },
     "output_type": "display_data"
    }
   ],
   "source": [
    "\n",
    "plt.imshow(U_,cmap='Greys')\n",
    "#xlim(20,30)\n",
    "#ylim(20,30)\n",
    "colorbar()\n"
   ]
  },
  {
   "cell_type": "code",
   "execution_count": 14,
   "metadata": {
    "scrolled": true
   },
   "outputs": [
    {
     "data": {
      "text/plain": [
       "[<matplotlib.lines.Line2D at 0x1c10883f7c0>]"
      ]
     },
     "execution_count": 14,
     "metadata": {},
     "output_type": "execute_result"
    },
    {
     "data": {
      "image/png": "[encoded data removed]",
      "text/plain": [
       "<Figure size 432x288 with 1 Axes>"
      ]
     },
     "metadata": {
      "needs_background": "light"
     },
     "output_type": "display_data"
    }
   ],
   "source": [
    "plt.plot(np.abs(U_[:,N//2]))"
   ]
  },
  {
   "cell_type": "code",
   "execution_count": null,
   "metadata": {},
   "outputs": [],
   "source": []
  }
 ],
 "metadata": {
  "kernelspec": {
   "display_name": "Python 3",
   "language": "python",
   "name": "python3"
  },
  "language_info": {
   "codemirror_mode": {
    "name": "ipython",
    "version": 3
   },
   "file_extension": ".py",
   "mimetype": "text/x-python",
   "name": "python",
   "nbconvert_exporter": "python",
   "pygments_lexer": "ipython3",
   "version": "3.8.5"
  }
 },
 "nbformat": 4,
 "nbformat_minor": 5
}
